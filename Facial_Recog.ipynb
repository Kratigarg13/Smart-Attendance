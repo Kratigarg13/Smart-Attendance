{
 "cells": [
  {
   "cell_type": "code",
   "execution_count": 10,
   "metadata": {},
   "outputs": [
    {
     "name": "stdout",
     "output_type": "stream",
     "text": [
      "Requirement already satisfied: cmake in c:\\users\\krati\\anaconda3\\lib\\site-packages (3.18.2.post1)\n",
      "Note: you may need to restart the kernel to use updated packages.\n"
     ]
    }
   ],
   "source": [
    "pip install cmake"
   ]
  },
  {
   "cell_type": "code",
   "execution_count": 11,
   "metadata": {},
   "outputs": [
    {
     "name": "stdout",
     "output_type": "stream",
     "text": [
      "Requirement already satisfied: dlib in c:\\users\\krati\\anaconda3\\lib\\site-packages (19.21.0)\n",
      "Note: you may need to restart the kernel to use updated packages.\n"
     ]
    }
   ],
   "source": [
    "pip install dlib"
   ]
  },
  {
   "cell_type": "code",
   "execution_count": 12,
   "metadata": {},
   "outputs": [
    {
     "name": "stdout",
     "output_type": "stream",
     "text": [
      "Requirement already satisfied: face-recognition in c:\\users\\krati\\anaconda3\\lib\\site-packages (1.3.0)\n",
      "Requirement already satisfied: Pillow in c:\\users\\krati\\anaconda3\\lib\\site-packages (from face-recognition) (7.2.0)\n",
      "Requirement already satisfied: numpy in c:\\users\\krati\\anaconda3\\lib\\site-packages (from face-recognition) (1.18.5)\n",
      "Requirement already satisfied: face-recognition-models>=0.3.0 in c:\\users\\krati\\anaconda3\\lib\\site-packages (from face-recognition) (0.3.0)\n",
      "Requirement already satisfied: Click>=6.0 in c:\\users\\krati\\anaconda3\\lib\\site-packages (from face-recognition) (7.1.2)\n",
      "Requirement already satisfied: dlib>=19.7 in c:\\users\\krati\\anaconda3\\lib\\site-packages (from face-recognition) (19.21.0)\n",
      "Note: you may need to restart the kernel to use updated packages.\n"
     ]
    }
   ],
   "source": [
    "pip install face-recognition"
   ]
  },
  {
   "cell_type": "code",
   "execution_count": 13,
   "metadata": {},
   "outputs": [
    {
     "name": "stdout",
     "output_type": "stream",
     "text": [
      "Requirement already satisfied: opencv-python in c:\\users\\krati\\anaconda3\\lib\\site-packages (4.4.0.44)Note: you may need to restart the kernel to use updated packages.\n",
      "Requirement already satisfied: numpy>=1.17.3 in c:\\users\\krati\\anaconda3\\lib\\site-packages (from opencv-python) (1.18.5)\n",
      "\n"
     ]
    }
   ],
   "source": [
    "pip install opencv-python"
   ]
  },
  {
   "cell_type": "code",
   "execution_count": 1,
   "metadata": {},
   "outputs": [],
   "source": [
    "import numpy as np\n",
    "import pandas as pd\n",
    "import math\n",
    "import random\n",
    "import time\n",
    "import face_recognition\n",
    "import cv2\n",
    "import os\n",
    "from datetime import datetime, date"
   ]
  },
  {
   "cell_type": "code",
   "execution_count": 2,
   "metadata": {},
   "outputs": [
    {
     "name": "stdout",
     "output_type": "stream",
     "text": [
      "['Aryaman Shukla.jpeg', 'Haren Nagdewani.jpeg', 'Krati Garg.jpeg', 'Muskaan Singla.jpeg']\n",
      "['Aryaman Shukla', 'Haren Nagdewani', 'Krati Garg', 'Muskaan Singla']\n",
      "Encoding Complete\n",
      "50\n",
      "122\n",
      "163\n",
      "[0.6706371  0.46276339 0.79341203 0.80097886]\n",
      "Haren Nagdewani\n",
      "2.2410309314727783\n",
      "[0.6752282  0.57112698 0.49011288 0.6415246 ]\n",
      "Krati Garg\n",
      "2.138232469558716\n",
      "[0.74793721 0.57032932 0.39543276 0.50770706]\n",
      "Krati Garg\n",
      "2.105360269546509\n"
     ]
    }
   ],
   "source": [
    "\n",
    "def facial_recogg():\n",
    "    cap = cv2.VideoCapture(0)\n",
    "    frame, img = cap.read()\n",
    "    imgC = cv2.resize(img,(0,0),None,0.25,0.25)\n",
    "    imgC = cv2.cvtColor(imgC,cv2.COLOR_BGR2RGB)\n",
    "    \n",
    "    facesCurrFrame = face_recognition.face_locations(imgC)\n",
    "    encodeCurrFrame = face_recognition.face_encodings(imgC,facesCurrFrame)\n",
    "    \n",
    "    for encodeFace, faceLoc in zip(encodeCurrFrame,facesCurrFrame):\n",
    "        matched = face_recognition.compare_faces(encodeListK,encodeFace)\n",
    "        faceDistance = face_recognition.face_distance(encodeListK,encodeFace)\n",
    "        print(faceDistance)\n",
    "        matchedIdx = np.argmin(faceDistance)\n",
    "    \n",
    "        if matched[matchedIdx]:\n",
    "            name = classNames[matchedIdx]\n",
    "            print(name)\n",
    "            y1,x1,y2,x2 = faceLoc\n",
    "            y1,x1,y2,x2 = y1*4,x1*4,y2*4,x2*4\n",
    "            cv2.rectangle(img,(x1,y1),(x2,y2),(255,0,255),2)\n",
    "            cv2.rectangle(img,(x1,y2-35),(x2,y2),(255,0,255),cv2.FILLED)\n",
    "            cv2.putText(img,name,(x1+6,y2-6),cv2.FONT_HERSHEY_COMPLEX,1,(255,255,255),2)\n",
    "            times[classNames.index(name)] = times[classNames.index(name)] + 1\n",
    "            if(name in present):\n",
    "                continue\n",
    "            else:\n",
    "                present.append(name)\n",
    "            \n",
    "    cv2.imshow(\"Webcam\",img)\n",
    "    cv2.waitKey(1)\n",
    "\n",
    "def findEncodings(images):\n",
    "    encodesList = []\n",
    "    for img in images :\n",
    "        img = cv2.cvtColor(img,cv2.COLOR_BGR2RGB)\n",
    "        encode = face_recognition.face_encodings(img)[0]\n",
    "        encodesList.append(encode)\n",
    "    return encodesList\n",
    "\n",
    "def MarkAttendance(name):\n",
    "    with open('Attendance.csv','r+') as f:\n",
    "        myDataList = f.readlines()\n",
    "        namesList = []\n",
    "        for line in myDataList:\n",
    "            entry = line.split(',')\n",
    "            namesList.append(entry[0])\n",
    "        if name not in namesList:\n",
    "            now = datetime.now()\n",
    "            today = date.today()\n",
    "            d1 = today.strftime(\"%d/%m/%Y\")\n",
    "            dtString = now.strftime('%H:%M:%S')\n",
    "            f.writelines(f'\\n{name},{dtString},{d1}')\n",
    "\n",
    "def MarkAbsent(name):\n",
    "     with open('Attendance.csv','r+') as f:\n",
    "        myDataList = f.readlines()\n",
    "        namesList = []\n",
    "        for line in myDataList:\n",
    "            entry = line.split(',')\n",
    "            namesList.append(entry[0])\n",
    "        if name not in namesList:\n",
    "            now = datetime.now()\n",
    "            today = date.today()\n",
    "            d1 = today.strftime(\"%d/%m/%Y\")\n",
    "            dtString = now.strftime('%H:%M:%S')\n",
    "            f.writelines(f'\\n{name},{dtString},{d1}- NOT PRESENT')\n",
    "\n",
    "path = 'ImagesStudents'\n",
    "images = []\n",
    "classNames = []\n",
    "myList = os.listdir(path)\n",
    "print(myList)\n",
    "total_time = 300\n",
    "times = []\n",
    "present = []\n",
    "for cls in myList:\n",
    "    currImg = cv2.imread(f'{path}/{cls}')\n",
    "    images.append(currImg)\n",
    "    classNames.append(os.path.splitext(cls)[0])\n",
    "    times.append(0)\n",
    "print(classNames)\n",
    "encodeListK = findEncodings(images)\n",
    "print(\"Encoding Complete\")\n",
    "\n",
    "x1 = random.randrange(30,100)\n",
    "print(x1)\n",
    "x2 = random.randrange(x1+30,200)\n",
    "print(x2)\n",
    "x3 = random.randrange(x2+30,300)\n",
    "print(x3)\n",
    "\n",
    "time.sleep(x1)\n",
    "start = time.time()\n",
    "facial_recogg()\n",
    "end = time.time()\n",
    "print(end - start)\n",
    "\n",
    "time.sleep(x2-x1)\n",
    "start = time.time()\n",
    "facial_recogg()\n",
    "end = time.time()\n",
    "print(end - start)\n",
    "\n",
    "time.sleep(x3-x2)\n",
    "start = time.time()\n",
    "facial_recogg()\n",
    "end = time.time()\n",
    "print(end - start)\n",
    "\n",
    "for x in present:\n",
    "    if(times[classNames.index(x)] >= 2):\n",
    "        MarkAttendance(x)\n",
    "    else:\n",
    "        MarkAbsent(x)\n",
    "    \n",
    "cv2.destroyAllWindows()"
   ]
  },
  {
   "cell_type": "code",
   "execution_count": null,
   "metadata": {},
   "outputs": [],
   "source": []
  }
 ],
 "metadata": {
  "kernelspec": {
   "display_name": "Python 3",
   "language": "python",
   "name": "python3"
  },
  "language_info": {
   "codemirror_mode": {
    "name": "ipython",
    "version": 3
   },
   "file_extension": ".py",
   "mimetype": "text/x-python",
   "name": "python",
   "nbconvert_exporter": "python",
   "pygments_lexer": "ipython3",
   "version": "3.8.3"
  }
 },
 "nbformat": 4,
 "nbformat_minor": 4
}
